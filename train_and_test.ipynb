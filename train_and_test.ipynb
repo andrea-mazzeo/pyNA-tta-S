{
 "cells": [
  {
   "cell_type": "markdown",
   "id": "8751e9af-6fa3-429e-80ee-e79b57cf328e",
   "metadata": {},
   "source": [
    "# xAI Wake Classifier - Training and Testing"
   ]
  },
  {
   "cell_type": "markdown",
   "id": "ba790ce6-5b83-40c4-9cf5-736b566557ed",
   "metadata": {},
   "source": [
    "## Required data (run to download the xAI Wakes dataset yet)\n",
    "* For the .csv with the target values for training and a set of pretrained weights, go to: https://drive.google.com/drive/folders/1CUIQy77qIsx2vIdJB7D95UEzCv5_YZDL?usp=sharing\n",
    "* For the dataset, run the following code:"
   ]
  },
  {
   "cell_type": "code",
   "execution_count": null,
   "id": "2c56b1e0-d75d-43cb-970c-67d72a9bf4ac",
   "metadata": {},
   "outputs": [],
   "source": [
    "import requests\n",
    "from tqdm import tqdm\n",
    "\n",
    "def download_file(url, filename):\n",
    "    \"\"\"\n",
    "    Download a file from the specified URL and save it locally.\n",
    "    \"\"\"\n",
    "    # Send a GET request to the URL\n",
    "    response = requests.get(url, stream=True)\n",
    "\n",
    "    # Total size in bytes\n",
    "    total_size = int(response.headers.get('content-length', 0))\n",
    "    block_size = 1024  # 1 Kibibyte\n",
    "\n",
    "    with open(filename, 'wb') as file, tqdm(\n",
    "        total=total_size, unit='iB', unit_scale=True\n",
    "    ) as bar:\n",
    "        for data in response.iter_content(block_size):\n",
    "            bar.update(len(data))\n",
    "            file.write(data)\n",
    "\n",
    "# URL of the file to be downloaded\n",
    "url = \"https://zenodo.org/records/10018939/files/xAIWakes.zip?download=1\"\n",
    "\n",
    "# Local filename to save the downloaded file\n",
    "filename = \"xAIWakes.zip\"\n",
    "\n",
    "# Download the file\n",
    "download_file(url, filename)\n",
    "\n",
    "print(f\"Downloaded '{filename}'.\")"
   ]
  },
  {
   "cell_type": "markdown",
   "id": "a5f82509-5a72-4601-bb93-412054d53aab",
   "metadata": {},
   "source": [
    "* Extract the downloaded dataset:"
   ]
  },
  {
   "cell_type": "code",
   "execution_count": null,
   "id": "29688154-5944-468e-bb83-fb7ac70a2801",
   "metadata": {},
   "outputs": [],
   "source": [
    "import zipfile\n",
    "\n",
    "# Specify the path to the zip file and the extraction directory\n",
    "zip_path = 'xAIWakes.zip'\n",
    "extract_to = 'xAIWakes'\n",
    "\n",
    "# Unzipping the file\n",
    "with zipfile.ZipFile(zip_path, 'r') as zip_ref:\n",
    "    zip_ref.extractall(extract_to)"
   ]
  },
  {
   "cell_type": "markdown",
   "id": "e2abd9b0-31d5-4315-af2c-fd3686b1d332",
   "metadata": {},
   "source": [
    "## Imports"
   ]
  },
  {
   "cell_type": "code",
   "execution_count": 1,
   "id": "077dfce9-ec91-4bef-a93b-40be59db268a",
   "metadata": {},
   "outputs": [],
   "source": [
    "from typing import Any\n",
    "\n",
    "import torch\n",
    "from torch import nn, optim\n",
    "import torch.nn.functional as F\n",
    "from torch.utils.data import DataLoader\n",
    "from torch.utils.data import Dataset\n",
    "from torch.utils.data import random_split\n",
    "\n",
    "import pytorch_lightning as pl\n",
    "from pytorch_lightning.loggers import TensorBoardLogger\n",
    "from pytorch_lightning.utilities.types import STEP_OUTPUT\n",
    "from pytorch_lightning.utilities.types import TRAIN_DATALOADERS, EVAL_DATALOADERS\n",
    "\n",
    "import torchvision\n",
    "import torchvision.transforms\n",
    "import torchvision.transforms as transforms\n",
    "from torchvision.transforms import v2\n",
    "\n",
    "import torchmetrics\n",
    "from torchmetrics.classification import BinaryAccuracy\n",
    "from torchmetrics.classification import BinaryF1Score\n",
    "from torchmetrics.classification import BinaryConfusionMatrix\n",
    "\n",
    "import numpy\n",
    "import numpy as np\n",
    "from numpy import logspace\n",
    "\n",
    "import PIL\n",
    "from PIL import Image\n",
    "\n",
    "from tqdm import tqdm\n",
    "import matplotlib.pyplot as plt\n",
    "from datetime import datetime # Used only to name savefig of confusion matrix\n",
    "import pandas as pd\n",
    "import os\n",
    "from skimage import io\n",
    "import tifffile\n",
    "from pathlib import Path\n",
    "import imageio.v2 as imageio"
   ]
  },
  {
   "cell_type": "markdown",
   "id": "4a8fd981-9f1e-421e-9e86-79d8f609dfc9",
   "metadata": {},
   "source": [
    "## Configuration"
   ]
  },
  {
   "cell_type": "code",
   "execution_count": 2,
   "id": "026218e2-845a-447a-bd40-4256a952bbdd",
   "metadata": {},
   "outputs": [],
   "source": [
    "# Random seed\n",
    "SEED = 41\n",
    "\n",
    "# Training hyperparameters\n",
    "IN_CHANNELS = 4\n",
    "NUM_CLASSES = 2\n",
    "LEARNING_RATE = 0.000310823572 # Obtained through Grey Wolf Optimization\n",
    "BATCH_SIZE = 21 # Obtained through Grey Wolf Optimization\n",
    "NUM_EPOCHS = 21\n",
    "\n",
    "# Dataset\n",
    "DATA_DIR = rf'xAIWakes/xAIWakes/'\n",
    "CSV_DIR = rf'xAIWakes_dataset.csv'\n",
    "\n",
    "NUM_WORKERS = 0 # 4\n",
    "TRANSFORM = v2.Compose([\n",
    "    v2.RandomHorizontalFlip(p=0.5),\n",
    "    v2.RandomVerticalFlip(p=0.5),\n",
    "    torchvision.transforms.ToTensor()\n",
    "])\n",
    "TRANSFORM_SIMPLE = torchvision.transforms.ToTensor()\n",
    "\n",
    "# Compute related\n",
    "ACCELERATOR = \"gpu\" # Change to use cpu\n",
    "DEVICES = [0]\n",
    "#PRECISION = 16\n",
    "\n",
    "device = 'cuda' if torch.cuda.is_available() else 'cpu' # Change ACCELLERATOR to use this\n",
    "\n",
    "# Logs\n",
    "LOGS_DIR = rf\"tb_logs\"\n",
    "CONF_MATRIX_DIR = rf\"tb_logs\""
   ]
  },
  {
   "cell_type": "markdown",
   "id": "bcccddba-b612-409e-aefb-182facc5b7ba",
   "metadata": {},
   "source": [
    "## Dataloader"
   ]
  },
  {
   "cell_type": "markdown",
   "id": "a43d0f78-18c3-483b-8242-7713b02e3460",
   "metadata": {},
   "source": [
    "* Transform the xAIWakes dataset to suit the network"
   ]
  },
  {
   "cell_type": "code",
   "execution_count": 3,
   "id": "fe7f1316-bfa3-4af1-9b48-f6746ef9e393",
   "metadata": {},
   "outputs": [],
   "source": [
    "def read_img(idx):\n",
    "    \n",
    "    def correct_dim(img):\n",
    "        # If the image is not already in grayscale, convert it\n",
    "        if len(img.shape) == 3 and img.shape[2] == 3:  # Assuming the image is RGB\n",
    "            img_gray = img[:, :, 0]\n",
    "        else:\n",
    "            img_gray = img\n",
    "        return img_gray\n",
    "\n",
    "    resize_transform = transforms.Resize((256,256), antialias=True)\n",
    "\n",
    "    b2 = [x for x in Path('xAIWakes/xAIWakes/B2').glob('**/*') if x.is_file()]\n",
    "    b3 = [x for x in Path('xAIWakes/xAIWakes/B3').glob('**/*') if x.is_file()]\n",
    "    b4 = [x for x in Path('xAIWakes/xAIWakes/B4').glob('**/*') if x.is_file()]\n",
    "    b8 = [x for x in Path('xAIWakes/xAIWakes/B8').glob('**/*') if x.is_file()]\n",
    "\n",
    "    # Exclude unwanted indices\n",
    "    exclude_indices = [4, 80, 84, 87]  # Because B2 no_wake has some images in excess\n",
    "    b2 = [b2[i] for i in range(len(b2)) if i not in exclude_indices] # Because B2 no_wake has some images in excess\n",
    "    \n",
    "    b2_idx = b2[idx]\n",
    "    b3_idx = b3[idx]\n",
    "    b4_idx = b4[idx]\n",
    "    b8_idx = b8[idx]\n",
    "\n",
    "    #TEST\n",
    "    im_b2 = imageio.imread(b2_idx)\n",
    "    im_b3 = imageio.imread(b3_idx)\n",
    "    im_b4 = imageio.imread(b4_idx)\n",
    "    im_b8 = imageio.imread(b8_idx)\n",
    "\n",
    "    # Correct the dimensions\n",
    "    im_b2 = correct_dim(im_b2)\n",
    "    im_b3 = correct_dim(im_b3)\n",
    "    im_b4 = correct_dim(im_b4)\n",
    "    im_b8 = correct_dim(im_b8)\n",
    "    \n",
    "    # Convert NumPy arrays to PIL Images\n",
    "    im_b2 = Image.fromarray(im_b2)\n",
    "    im_b3 = Image.fromarray(im_b3)\n",
    "    im_b4 = Image.fromarray(im_b4)\n",
    "    im_b8 = Image.fromarray(im_b8)\n",
    "    \n",
    "    # Apply resizing transformation\n",
    "    im_b2 = resize_transform(im_b2)\n",
    "    im_b3 = resize_transform(im_b3)\n",
    "    im_b4 = resize_transform(im_b4)\n",
    "    im_b8 = resize_transform(im_b8)\n",
    "    \n",
    "    im_stack = np.stack((im_b2, im_b3, im_b4, im_b8), axis=0)\n",
    "    #print(\"CHECK:\", im_stack.shape)\n",
    "    return im_stack.astype(np.float32)\n",
    "\n",
    "class xAIWakesDataset(Dataset):\n",
    "    def __init__(self, csv_dir, root_dir, transform=None):\n",
    "        super().__init__()\n",
    "        self.annotations = pd.read_csv(csv_dir)\n",
    "        self.root_dir = root_dir\n",
    "        self.transform = transform\n",
    "\n",
    "    def __len__(self):\n",
    "        return len(self.annotations) # XAI has 269 images\n",
    "\n",
    "    def __getitem__(self, index):\n",
    "        img_path = os.path.join(self.root_dir, self.annotations.iloc[index, 0])\n",
    "        image = read_img(index)\n",
    "        y_label = torch.tensor(int(self.annotations.iloc[index, 1]))       \n",
    "        \n",
    "        if self.transform:\n",
    "            image = self.transform(image)\n",
    "\n",
    "        image = image.permute(1, 0, 2)\n",
    "        #print(\"CHECK_2:\",image.shape)\n",
    "        return (image, y_label)"
   ]
  },
  {
   "cell_type": "markdown",
   "id": "d9e921a7-b191-40c5-b273-e43747705789",
   "metadata": {},
   "source": [
    "* Define the Lightning data module\n",
    "* Dataset split as 60% Training, 20% for validation and testing."
   ]
  },
  {
   "cell_type": "code",
   "execution_count": 19,
   "id": "edb57348-e1c4-462a-aaa2-7ef8f54cf5a2",
   "metadata": {},
   "outputs": [],
   "source": [
    "class xAIWakesDataModule(pl.LightningDataModule):\n",
    "    def __init__(self, csv_file, root_dir, batch_size, num_workers, transform=None):\n",
    "        super().__init__()\n",
    "        self.csv_file = csv_file\n",
    "        self.root_dir = root_dir\n",
    "        self.batch_size = batch_size\n",
    "        self.num_workers = num_workers\n",
    "        self.transform = transform\n",
    "\n",
    "    def prepare_data(self):\n",
    "        # Left empty as data is already downloaded and preprocessed\n",
    "        pass\n",
    "\n",
    "    def setup(self, stage):\n",
    "        my_ds = xAIWakesDataset(self.csv_file, self.root_dir, self.transform)\n",
    "        self.train_ds, self.val_ds, self.test_ds = random_split(my_ds, [0.6, 0.2, 0.2])\n",
    "        self.predict_ds = my_ds\n",
    "\n",
    "    def train_dataloader(self):\n",
    "        return DataLoader(\n",
    "            self.train_ds,\n",
    "            batch_size=self.batch_size,\n",
    "            num_workers=self.num_workers,\n",
    "            shuffle=True,\n",
    "            #persistent_workers=True,\n",
    "        )\n",
    "\n",
    "    def val_dataloader(self):\n",
    "        return DataLoader(\n",
    "            self.val_ds,\n",
    "            batch_size=self.batch_size,\n",
    "            num_workers=self.num_workers,\n",
    "            shuffle=False,\n",
    "            #persistent_workers=True,\n",
    "        )\n",
    "\n",
    "    def test_dataloader(self):\n",
    "        return DataLoader(\n",
    "            self.test_ds,\n",
    "            batch_size=self.batch_size,\n",
    "            num_workers=self.num_workers,\n",
    "            shuffle=False,\n",
    "            #persistent_workers=True,\n",
    "        )\n",
    "\n",
    "    def predict_dataloader(self):\n",
    "        return DataLoader(\n",
    "            self.predict_ds,\n",
    "            batch_size=self.batch_size,\n",
    "            num_workers=self.num_workers,\n",
    "            shuffle=False,\n",
    "            #persistent_workers=True,\n",
    "        )"
   ]
  },
  {
   "cell_type": "markdown",
   "id": "6315e535-95f4-4dd0-8017-64f14dfc3ed0",
   "metadata": {},
   "source": [
    "## Model"
   ]
  },
  {
   "cell_type": "code",
   "execution_count": 5,
   "id": "f20b1b43-d55a-4a3f-ba9c-2b045ca8f578",
   "metadata": {},
   "outputs": [],
   "source": [
    "class CommonConv(nn.Sequential):\n",
    "    def __init__(self, in_channels, out_channels):\n",
    "        super().__init__(\n",
    "            nn.Conv2d(\n",
    "                in_channels=in_channels,\n",
    "                out_channels=out_channels,\n",
    "                kernel_size=(3, 3),\n",
    "                stride=(1, 1),\n",
    "                padding=(1, 1),\n",
    "                bias=False,\n",
    "            ),\n",
    "            nn.BatchNorm2d(out_channels),\n",
    "            nn.ReLU(),\n",
    "            nn.MaxPool2d(kernel_size=(2, 2), stride=(2, 2))\n",
    "        )"
   ]
  },
  {
   "cell_type": "code",
   "execution_count": 6,
   "id": "5cae5d85-0526-41b6-8084-6dff73dfad69",
   "metadata": {},
   "outputs": [],
   "source": [
    "class WakeClassifier(nn.Module):\n",
    "    def __init__(self, in_channels=4, num_classes=2):\n",
    "        super().__init__()\n",
    "        self.conv_layers = nn.Sequential(\n",
    "            CommonConv(in_channels=in_channels, out_channels=16),\n",
    "            CommonConv(in_channels=16, out_channels=32),\n",
    "            CommonConv(in_channels=32, out_channels=64),\n",
    "        )\n",
    "        self.fc_layers = nn.Sequential(\n",
    "            nn.Linear(64 * 32 * 32, 512),  # Adjust input size based on your image dimensions\n",
    "            nn.ReLU(),\n",
    "            nn.Linear(512, num_classes),  # Output layer with 2 classes\n",
    "            nn.Dropout(p=0.4),\n",
    "        )\n",
    "\n",
    "    def forward(self, x):\n",
    "        x = self.conv_layers(x)\n",
    "        x = x.view(x.size(0), -1)\n",
    "        x = self.fc_layers(x)\n",
    "        return x"
   ]
  },
  {
   "cell_type": "code",
   "execution_count": 11,
   "id": "be2ebd99-50d9-4401-8dad-83b5f6bd1a71",
   "metadata": {},
   "outputs": [],
   "source": [
    "class WakeClassifierPlModule(pl.LightningModule):\n",
    "    def __init__(self, in_channels=4, num_classes=2, learning_rate=1e-3):\n",
    "        super(WakeClassifierPlModule, self).__init__()\n",
    "        self.lr = learning_rate\n",
    "        self.model = WakeClassifier(num_classes=2)\n",
    "\n",
    "        # Other\n",
    "        self.loss_fn = nn.CrossEntropyLoss()\n",
    "        self.accuracy = BinaryAccuracy()\n",
    "        self.test_accuracy = 0.0 # for hyperparameter optimization\n",
    "        self.f1_score = BinaryF1Score()\n",
    "        self.conf_matrix = BinaryConfusionMatrix()\n",
    "        self.conf_matrix_pred = BinaryConfusionMatrix()\n",
    "\n",
    "    def forward(self, x):\n",
    "        # Convolutional layers with ReLU activation, batch normalization, and max pooling\n",
    "        return self.model(x)\n",
    "\n",
    "    def training_step(self, batch, batch_idx):\n",
    "        x, y = batch\n",
    "        loss, scores, y = self._common_step(batch, batch_idx)\n",
    "        accuracy = self.accuracy(torch.argmax(scores, dim=1), y)\n",
    "        f1_score = self.f1_score(torch.argmax(scores, dim=1), y)\n",
    "        self.log_dict({\n",
    "            'train_loss': loss, \n",
    "            'train_accuracy': accuracy,\n",
    "            'train_f1_score': f1_score,\n",
    "            },\n",
    "            on_step=False,\n",
    "            on_epoch=True,\n",
    "            prog_bar=True,\n",
    "            logger=True\n",
    "            )\n",
    "        return loss\n",
    "\n",
    "    def validation_step(self, batch, batch_idx):\n",
    "        x, y = batch\n",
    "        loss, scores, y = self._common_step(batch, batch_idx)\n",
    "        self.accuracy.update(torch.argmax(scores, dim=1), y)\n",
    "        self.f1_score.update(torch.argmax(scores, dim=1), y)\n",
    "        self.log(\"val_loss\", loss)\n",
    "        return loss\n",
    "\n",
    "    def test_step(self, batch, batch_idx):\n",
    "        x, y = batch\n",
    "        loss, scores, y = self._common_step(batch, batch_idx)\n",
    "        accuracy = self.accuracy(torch.argmax(scores, dim=1), y)\n",
    "        f1_score = self.f1_score(torch.argmax(scores, dim=1), y)\n",
    "        self.conf_matrix.update(torch.argmax(scores, dim=1), y)\n",
    "        self.conf_matrix.compute()\n",
    "        self.log_dict({\n",
    "            'test_loss': loss, \n",
    "            'test_accuracy': accuracy,\n",
    "            'test_f1_score': f1_score,\n",
    "            },\n",
    "            on_step=False,\n",
    "            on_epoch=True,\n",
    "            prog_bar=True,\n",
    "            logger=True\n",
    "            )\n",
    "        return loss\n",
    "\n",
    "    def on_test_end(self):\n",
    "        fig_, ax_ = self.conf_matrix.plot()  # to plot and save confusion matrix\n",
    "        plt.xlabel('Prediction')\n",
    "        plt.ylabel('Class')\n",
    "        current_datetime = datetime.now().strftime(\"%Y-%m-%d_%H-%M-%S\")\n",
    "        plt.savefig(rf\".\\tb_logs\\confusion_matrix_{current_datetime}.png\")\n",
    "        #plt.show()\n",
    "\n",
    "    def _common_step(self, batch, batch_idx):\n",
    "        x, y = batch\n",
    "        scores = self.forward(x)\n",
    "        loss = self.loss_fn(scores, y)\n",
    "        return loss, scores, y\n",
    "    \n",
    "    def predict_step(self, batch, batch_idx):\n",
    "        x, y = batch\n",
    "        scores = self.forward(x)\n",
    "        preds = torch.argmax(scores, dim=1)\n",
    "        accuracy = self.accuracy(preds, y)\n",
    "        f1_score = self.f1_score(preds, y)\n",
    "        self.conf_matrix_pred.update(preds, y)\n",
    "        self.conf_matrix_pred.compute()\n",
    "\n",
    "        print(f\" - Accuracy: {accuracy:.3f}, F1-score: {f1_score:.3f}\")\n",
    "        return preds\n",
    "\n",
    "    def on_predict_end(self):\n",
    "        fig_, ax_ = self.conf_matrix_pred.plot()\n",
    "        plt.xlabel('Prediction')\n",
    "        plt.ylabel('Class')\n",
    "        current_datetime = datetime.now().strftime(\"%Y-%m-%d_%H-%M-%S\")\n",
    "        plt.savefig(rf\".\\tb_logs\\confusion_matrix_predictions_{current_datetime}.png\")\n",
    "        plt.show()  # test block=False\n",
    "\n",
    "    def configure_optimizers(self):\n",
    "        optimizer = optim.Adam(self.parameters(), lr=self.lr) # 1e-3 is a sane value for lr\n",
    "        return optimizer"
   ]
  },
  {
   "cell_type": "markdown",
   "id": "7b54eb96-fc45-4ad9-b42f-4275931df12e",
   "metadata": {},
   "source": [
    "#### Tensor shape test\n",
    "Useful to see if the model takes in a tensor with the correct shape, and returns the correct amount of classes. In this case, the desired output is \"torch.Size([4, 2])\""
   ]
  },
  {
   "cell_type": "code",
   "execution_count": 12,
   "id": "c3c583b7-9f1a-4591-9af2-ddbb2591321a",
   "metadata": {},
   "outputs": [
    {
     "name": "stdout",
     "output_type": "stream",
     "text": [
      "torch.Size([4, 2])\n"
     ]
    }
   ],
   "source": [
    "# Basic check\n",
    "model = WakeClassifier()\n",
    "x = torch.randn(4, 4, 256, 256)\n",
    "print(model(x).shape)"
   ]
  },
  {
   "cell_type": "markdown",
   "id": "cd3dcba5-fad2-4f61-9b65-41dca78cc121",
   "metadata": {},
   "source": [
    "## Training"
   ]
  },
  {
   "cell_type": "markdown",
   "id": "2ab6efab-5d22-4e10-af19-d3a6886b2537",
   "metadata": {},
   "source": [
    "Note: workers are set to 0 and are set to not be persistent in the dataloaders because of some issue with notebook. For information on this issue, refer to this (https://github.com/pytorch/pytorch/issues/5301)"
   ]
  },
  {
   "cell_type": "markdown",
   "id": "a7ba557d-8d04-4fc6-aaae-b045e85e8a34",
   "metadata": {},
   "source": [
    "* For reproducibility's sake, it is important to set the seed for all pseudo-random processes"
   ]
  },
  {
   "cell_type": "code",
   "execution_count": 17,
   "id": "564474a7-40d1-4871-ad71-4cadf721787b",
   "metadata": {},
   "outputs": [
    {
     "name": "stderr",
     "output_type": "stream",
     "text": [
      "Seed set to 41\n"
     ]
    }
   ],
   "source": [
    "seed = pl.seed_everything(seed=SEED, workers=True) # For reproducibility\n",
    "torch.set_float32_matmul_precision(\"medium\") # to make lightning happy"
   ]
  },
  {
   "cell_type": "code",
   "execution_count": 18,
   "id": "628a3597-d4b2-4ebf-baa6-a6aac9e245f0",
   "metadata": {},
   "outputs": [
    {
     "name": "stderr",
     "output_type": "stream",
     "text": [
      "GPU available: True (cuda), used: True\n",
      "TPU available: False, using: 0 TPU cores\n",
      "IPU available: False, using: 0 IPUs\n",
      "HPU available: False, using: 0 HPUs\n",
      "LOCAL_RANK: 0 - CUDA_VISIBLE_DEVICES: [0]\n",
      "\n",
      "  | Name             | Type                  | Params\n",
      "-----------------------------------------------------------\n",
      "0 | model            | WakeClassifier        | 33.6 M\n",
      "1 | loss_fn          | CrossEntropyLoss      | 0     \n",
      "2 | accuracy         | BinaryAccuracy        | 0     \n",
      "3 | f1_score         | BinaryF1Score         | 0     \n",
      "4 | conf_matrix      | BinaryConfusionMatrix | 0     \n",
      "5 | conf_matrix_pred | BinaryConfusionMatrix | 0     \n",
      "-----------------------------------------------------------\n",
      "33.6 M    Trainable params\n",
      "0         Non-trainable params\n",
      "33.6 M    Total params\n",
      "134.319   Total estimated model params size (MB)\n"
     ]
    },
    {
     "name": "stdout",
     "output_type": "stream",
     "text": [
      "Sanity Checking: |          | 0/? [00:00<?, ?it/s]"
     ]
    },
    {
     "name": "stderr",
     "output_type": "stream",
     "text": [
      "C:\\Users\\andre\\anaconda3\\envs\\deeplearning\\Lib\\site-packages\\pytorch_lightning\\trainer\\connectors\\data_connector.py:441: The 'val_dataloader' does not have many workers which may be a bottleneck. Consider increasing the value of the `num_workers` argument` to `num_workers=19` in the `DataLoader` to improve performance.\n"
     ]
    },
    {
     "name": "stdout",
     "output_type": "stream",
     "text": [
      "                                                                           "
     ]
    },
    {
     "name": "stderr",
     "output_type": "stream",
     "text": [
      "C:\\Users\\andre\\anaconda3\\envs\\deeplearning\\Lib\\site-packages\\pytorch_lightning\\trainer\\connectors\\data_connector.py:441: The 'train_dataloader' does not have many workers which may be a bottleneck. Consider increasing the value of the `num_workers` argument` to `num_workers=19` in the `DataLoader` to improve performance.\n",
      "C:\\Users\\andre\\anaconda3\\envs\\deeplearning\\Lib\\site-packages\\pytorch_lightning\\loops\\fit_loop.py:293: The number of training batches (8) is smaller than the logging interval Trainer(log_every_n_steps=50). Set a lower value for log_every_n_steps if you want to see logs for the training epoch.\n"
     ]
    },
    {
     "name": "stdout",
     "output_type": "stream",
     "text": [
      "Epoch 0: 100%|██████████| 8/8 [00:20<00:00,  0.38it/s, v_num=2]\n",
      "Validation: |          | 0/? [00:00<?, ?it/s]\u001b[A\n",
      "Validation:   0%|          | 0/3 [00:00<?, ?it/s]\u001b[A\n",
      "Validation DataLoader 0:   0%|          | 0/3 [00:00<?, ?it/s]\u001b[A\n",
      "Validation DataLoader 0:  33%|███▎      | 1/3 [00:00<00:00, 13.29it/s]\u001b[A\n",
      "Validation DataLoader 0:  67%|██████▋   | 2/3 [00:02<00:01,  0.78it/s]\u001b[A\n",
      "Validation DataLoader 0: 100%|██████████| 3/3 [00:03<00:00,  0.79it/s]\u001b[A\n",
      "Epoch 1: 100%|██████████| 8/8 [00:18<00:00,  0.44it/s, v_num=2, train_loss=7.930, train_accuracy=0.503, train_f1_score=0.411]\n",
      "Validation: |          | 0/? [00:00<?, ?it/s]\u001b[A\n",
      "Validation:   0%|          | 0/3 [00:00<?, ?it/s]\u001b[A\n",
      "Validation DataLoader 0:   0%|          | 0/3 [00:00<?, ?it/s]\u001b[A\n",
      "Validation DataLoader 0:  33%|███▎      | 1/3 [00:00<00:00, 12.21it/s]\u001b[A\n",
      "Validation DataLoader 0:  67%|██████▋   | 2/3 [00:02<00:01,  0.85it/s]\u001b[A\n",
      "Validation DataLoader 0: 100%|██████████| 3/3 [00:03<00:00,  0.85it/s]\u001b[A\n",
      "Epoch 2: 100%|██████████| 8/8 [00:18<00:00,  0.44it/s, v_num=2, train_loss=5.300, train_accuracy=0.615, train_f1_score=0.525]\n",
      "Validation: |          | 0/? [00:00<?, ?it/s]\u001b[A\n",
      "Validation:   0%|          | 0/3 [00:00<?, ?it/s]\u001b[A\n",
      "Validation DataLoader 0:   0%|          | 0/3 [00:00<?, ?it/s]\u001b[A\n",
      "Validation DataLoader 0:  33%|███▎      | 1/3 [00:00<00:00, 12.98it/s]\u001b[A\n",
      "Validation DataLoader 0:  67%|██████▋   | 2/3 [00:02<00:01,  0.83it/s]\u001b[A\n",
      "Validation DataLoader 0: 100%|██████████| 3/3 [00:03<00:00,  0.77it/s]\u001b[A\n",
      "Epoch 3: 100%|██████████| 8/8 [00:18<00:00,  0.44it/s, v_num=2, train_loss=2.440, train_accuracy=0.733, train_f1_score=0.665]\n",
      "Validation: |          | 0/? [00:00<?, ?it/s]\u001b[A\n",
      "Validation:   0%|          | 0/3 [00:00<?, ?it/s]\u001b[A\n",
      "Validation DataLoader 0:   0%|          | 0/3 [00:00<?, ?it/s]\u001b[A\n",
      "Validation DataLoader 0:  33%|███▎      | 1/3 [00:00<00:00, 43.40it/s]\u001b[A\n",
      "Validation DataLoader 0:  67%|██████▋   | 2/3 [00:02<00:01,  0.94it/s]\u001b[A\n",
      "Validation DataLoader 0: 100%|██████████| 3/3 [00:03<00:00,  0.86it/s]\u001b[A\n",
      "Epoch 4: 100%|██████████| 8/8 [00:18<00:00,  0.42it/s, v_num=2, train_loss=0.678, train_accuracy=0.776, train_f1_score=0.708]\n",
      "Validation: |          | 0/? [00:00<?, ?it/s]\u001b[A\n",
      "Validation:   0%|          | 0/3 [00:00<?, ?it/s]\u001b[A\n",
      "Validation DataLoader 0:   0%|          | 0/3 [00:00<?, ?it/s]\u001b[A\n",
      "Validation DataLoader 0:  33%|███▎      | 1/3 [00:00<00:00,  6.47it/s]\u001b[A\n",
      "Validation DataLoader 0:  67%|██████▋   | 2/3 [00:02<00:01,  0.79it/s]\u001b[A\n",
      "Validation DataLoader 0: 100%|██████████| 3/3 [00:03<00:00,  0.79it/s]\u001b[A\n",
      "Epoch 5: 100%|██████████| 8/8 [00:17<00:00,  0.46it/s, v_num=2, train_loss=0.609, train_accuracy=0.851, train_f1_score=0.829]\n",
      "Validation: |          | 0/? [00:00<?, ?it/s]\u001b[A\n",
      "Validation:   0%|          | 0/3 [00:00<?, ?it/s]\u001b[A\n",
      "Validation DataLoader 0:   0%|          | 0/3 [00:00<?, ?it/s]\u001b[A\n",
      "Validation DataLoader 0:  33%|███▎      | 1/3 [00:00<00:00, 13.62it/s]\u001b[A\n",
      "Validation DataLoader 0:  67%|██████▋   | 2/3 [00:02<00:01,  0.84it/s]\u001b[A\n",
      "Validation DataLoader 0: 100%|██████████| 3/3 [00:03<00:00,  0.82it/s]\u001b[A\n",
      "Epoch 6: 100%|██████████| 8/8 [00:18<00:00,  0.44it/s, v_num=2, train_loss=0.518, train_accuracy=0.826, train_f1_score=0.793]\n",
      "Validation: |          | 0/? [00:00<?, ?it/s]\u001b[A\n",
      "Validation:   0%|          | 0/3 [00:00<?, ?it/s]\u001b[A\n",
      "Validation DataLoader 0:   0%|          | 0/3 [00:00<?, ?it/s]\u001b[A\n",
      "Validation DataLoader 0:  33%|███▎      | 1/3 [00:00<00:00, 12.99it/s]\u001b[A\n",
      "Validation DataLoader 0:  67%|██████▋   | 2/3 [00:02<00:01,  0.83it/s]\u001b[A\n",
      "Validation DataLoader 0: 100%|██████████| 3/3 [00:03<00:00,  0.81it/s]\u001b[A\n",
      "Epoch 7: 100%|██████████| 8/8 [00:18<00:00,  0.44it/s, v_num=2, train_loss=0.326, train_accuracy=0.845, train_f1_score=0.791]\n",
      "Validation: |          | 0/? [00:00<?, ?it/s]\u001b[A\n",
      "Validation:   0%|          | 0/3 [00:00<?, ?it/s]\u001b[A\n",
      "Validation DataLoader 0:   0%|          | 0/3 [00:00<?, ?it/s]\u001b[A\n",
      "Validation DataLoader 0:  33%|███▎      | 1/3 [00:00<00:00,  6.35it/s]\u001b[A\n",
      "Validation DataLoader 0:  67%|██████▋   | 2/3 [00:02<00:01,  0.91it/s]\u001b[A\n",
      "Validation DataLoader 0: 100%|██████████| 3/3 [00:03<00:00,  0.88it/s]\u001b[A\n",
      "Epoch 8: 100%|██████████| 8/8 [00:17<00:00,  0.46it/s, v_num=2, train_loss=0.723, train_accuracy=0.845, train_f1_score=0.812]\n",
      "Validation: |          | 0/? [00:00<?, ?it/s]\u001b[A\n",
      "Validation:   0%|          | 0/3 [00:00<?, ?it/s]\u001b[A\n",
      "Validation DataLoader 0:   0%|          | 0/3 [00:00<?, ?it/s]\u001b[A\n",
      "Validation DataLoader 0:  33%|███▎      | 1/3 [00:00<00:00, 12.64it/s]\u001b[A\n",
      "Validation DataLoader 0:  67%|██████▋   | 2/3 [00:02<00:01,  0.84it/s]\u001b[A\n",
      "Validation DataLoader 0: 100%|██████████| 3/3 [00:03<00:00,  0.83it/s]\u001b[A\n",
      "Epoch 9: 100%|██████████| 8/8 [00:17<00:00,  0.46it/s, v_num=2, train_loss=0.320, train_accuracy=0.919, train_f1_score=0.897]\n",
      "Validation: |          | 0/? [00:00<?, ?it/s]\u001b[A\n",
      "Validation:   0%|          | 0/3 [00:00<?, ?it/s]\u001b[A\n",
      "Validation DataLoader 0:   0%|          | 0/3 [00:00<?, ?it/s]\u001b[A\n",
      "Validation DataLoader 0:  33%|███▎      | 1/3 [00:00<00:00, 36.50it/s]\u001b[A\n",
      "Validation DataLoader 0:  67%|██████▋   | 2/3 [00:02<00:01,  0.94it/s]\u001b[A\n",
      "Validation DataLoader 0: 100%|██████████| 3/3 [00:03<00:00,  0.90it/s]\u001b[A\n",
      "Epoch 10: 100%|██████████| 8/8 [00:17<00:00,  0.44it/s, v_num=2, train_loss=0.212, train_accuracy=0.907, train_f1_score=0.895]\n",
      "Validation: |          | 0/? [00:00<?, ?it/s]\u001b[A\n",
      "Validation:   0%|          | 0/3 [00:00<?, ?it/s]\u001b[A\n",
      "Validation DataLoader 0:   0%|          | 0/3 [00:00<?, ?it/s]\u001b[A\n",
      "Validation DataLoader 0:  33%|███▎      | 1/3 [00:00<00:00, 47.29it/s]\u001b[A\n",
      "Validation DataLoader 0:  67%|██████▋   | 2/3 [00:02<00:01,  0.93it/s]\u001b[A\n",
      "Validation DataLoader 0: 100%|██████████| 3/3 [00:03<00:00,  0.84it/s]\u001b[A\n",
      "Epoch 11: 100%|██████████| 8/8 [00:17<00:00,  0.46it/s, v_num=2, train_loss=0.165, train_accuracy=0.907, train_f1_score=0.894]\n",
      "Validation: |          | 0/? [00:00<?, ?it/s]\u001b[A\n",
      "Validation:   0%|          | 0/3 [00:00<?, ?it/s]\u001b[A\n",
      "Validation DataLoader 0:   0%|          | 0/3 [00:00<?, ?it/s]\u001b[A\n",
      "Validation DataLoader 0:  33%|███▎      | 1/3 [00:00<00:00, 38.39it/s]\u001b[A\n",
      "Validation DataLoader 0:  67%|██████▋   | 2/3 [00:02<00:01,  0.92it/s]\u001b[A\n",
      "Validation DataLoader 0: 100%|██████████| 3/3 [00:03<00:00,  0.90it/s]\u001b[A\n",
      "Epoch 12: 100%|██████████| 8/8 [00:18<00:00,  0.44it/s, v_num=2, train_loss=0.229, train_accuracy=0.913, train_f1_score=0.891]\n",
      "Validation: |          | 0/? [00:00<?, ?it/s]\u001b[A\n",
      "Validation:   0%|          | 0/3 [00:00<?, ?it/s]\u001b[A\n",
      "Validation DataLoader 0:   0%|          | 0/3 [00:00<?, ?it/s]\u001b[A\n",
      "Validation DataLoader 0:  33%|███▎      | 1/3 [00:00<00:00, 30.67it/s]\u001b[A\n",
      "Validation DataLoader 0:  67%|██████▋   | 2/3 [00:02<00:01,  0.83it/s]\u001b[A\n",
      "Validation DataLoader 0: 100%|██████████| 3/3 [00:03<00:00,  0.83it/s]\u001b[A\n",
      "Epoch 13: 100%|██████████| 8/8 [00:17<00:00,  0.45it/s, v_num=2, train_loss=0.127, train_accuracy=0.944, train_f1_score=0.935]\n",
      "Validation: |          | 0/? [00:00<?, ?it/s]\u001b[A\n",
      "Validation:   0%|          | 0/3 [00:00<?, ?it/s]\u001b[A\n",
      "Validation DataLoader 0:   0%|          | 0/3 [00:00<?, ?it/s]\u001b[A\n",
      "Validation DataLoader 0:  33%|███▎      | 1/3 [00:00<00:00, 30.50it/s]\u001b[A\n",
      "Validation DataLoader 0:  67%|██████▋   | 2/3 [00:02<00:01,  0.91it/s]\u001b[A\n",
      "Validation DataLoader 0: 100%|██████████| 3/3 [00:03<00:00,  0.85it/s]\u001b[A\n",
      "Epoch 14: 100%|██████████| 8/8 [00:17<00:00,  0.45it/s, v_num=2, train_loss=0.114, train_accuracy=0.938, train_f1_score=0.926]\n",
      "Validation: |          | 0/? [00:00<?, ?it/s]\u001b[A\n",
      "Validation:   0%|          | 0/3 [00:00<?, ?it/s]\u001b[A\n",
      "Validation DataLoader 0:   0%|          | 0/3 [00:00<?, ?it/s]\u001b[A\n",
      "Validation DataLoader 0:  33%|███▎      | 1/3 [00:00<00:00, 13.73it/s]\u001b[A\n",
      "Validation DataLoader 0:  67%|██████▋   | 2/3 [00:02<00:01,  0.85it/s]\u001b[A\n",
      "Validation DataLoader 0: 100%|██████████| 3/3 [00:03<00:00,  0.84it/s]\u001b[A\n",
      "Epoch 15: 100%|██████████| 8/8 [00:17<00:00,  0.46it/s, v_num=2, train_loss=0.104, train_accuracy=0.944, train_f1_score=0.936]\n",
      "Validation: |          | 0/? [00:00<?, ?it/s]\u001b[A\n",
      "Validation:   0%|          | 0/3 [00:00<?, ?it/s]\u001b[A\n",
      "Validation DataLoader 0:   0%|          | 0/3 [00:00<?, ?it/s]\u001b[A\n",
      "Validation DataLoader 0:  33%|███▎      | 1/3 [00:00<00:00, 11.94it/s]\u001b[A\n",
      "Validation DataLoader 0:  67%|██████▋   | 2/3 [00:02<00:01,  0.79it/s]\u001b[A\n",
      "Validation DataLoader 0: 100%|██████████| 3/3 [00:03<00:00,  0.79it/s]\u001b[A\n",
      "Epoch 16: 100%|██████████| 8/8 [00:17<00:00,  0.46it/s, v_num=2, train_loss=0.147, train_accuracy=0.913, train_f1_score=0.890]\n",
      "Validation: |          | 0/? [00:00<?, ?it/s]\u001b[A\n",
      "Validation:   0%|          | 0/3 [00:00<?, ?it/s]\u001b[A\n",
      "Validation DataLoader 0:   0%|          | 0/3 [00:00<?, ?it/s]\u001b[A\n",
      "Validation DataLoader 0:  33%|███▎      | 1/3 [00:00<00:00, 14.07it/s]\u001b[A\n",
      "Validation DataLoader 0:  67%|██████▋   | 2/3 [00:02<00:01,  0.88it/s]\u001b[A\n",
      "Validation DataLoader 0: 100%|██████████| 3/3 [00:03<00:00,  0.80it/s]\u001b[A\n",
      "Epoch 17: 100%|██████████| 8/8 [00:17<00:00,  0.46it/s, v_num=2, train_loss=0.143, train_accuracy=0.901, train_f1_score=0.879]\n",
      "Validation: |          | 0/? [00:00<?, ?it/s]\u001b[A\n",
      "Validation:   0%|          | 0/3 [00:00<?, ?it/s]\u001b[A\n",
      "Validation DataLoader 0:   0%|          | 0/3 [00:00<?, ?it/s]\u001b[A\n",
      "Validation DataLoader 0:  33%|███▎      | 1/3 [00:00<00:00, 14.09it/s]\u001b[A\n",
      "Validation DataLoader 0:  67%|██████▋   | 2/3 [00:02<00:01,  0.86it/s]\u001b[A\n",
      "Validation DataLoader 0: 100%|██████████| 3/3 [00:03<00:00,  0.82it/s]\u001b[A\n",
      "Epoch 18: 100%|██████████| 8/8 [00:17<00:00,  0.45it/s, v_num=2, train_loss=0.0732, train_accuracy=0.957, train_f1_score=0.950]\n",
      "Validation: |          | 0/? [00:00<?, ?it/s]\u001b[A\n",
      "Validation:   0%|          | 0/3 [00:00<?, ?it/s]\u001b[A\n",
      "Validation DataLoader 0:   0%|          | 0/3 [00:00<?, ?it/s]\u001b[A\n",
      "Validation DataLoader 0:  33%|███▎      | 1/3 [00:00<00:00, 31.24it/s]\u001b[A\n",
      "Validation DataLoader 0:  67%|██████▋   | 2/3 [00:02<00:01,  0.91it/s]\u001b[A\n",
      "Validation DataLoader 0: 100%|██████████| 3/3 [00:03<00:00,  0.86it/s]\u001b[A\n",
      "Epoch 19: 100%|██████████| 8/8 [00:17<00:00,  0.45it/s, v_num=2, train_loss=0.131, train_accuracy=0.919, train_f1_score=0.896] \n",
      "Validation: |          | 0/? [00:00<?, ?it/s]\u001b[A\n",
      "Validation:   0%|          | 0/3 [00:00<?, ?it/s]\u001b[A\n",
      "Validation DataLoader 0:   0%|          | 0/3 [00:00<?, ?it/s]\u001b[A\n",
      "Validation DataLoader 0:  33%|███▎      | 1/3 [00:00<00:00, 12.26it/s]\u001b[A\n",
      "Validation DataLoader 0:  67%|██████▋   | 2/3 [00:02<00:01,  0.86it/s]\u001b[A\n",
      "Validation DataLoader 0: 100%|██████████| 3/3 [00:03<00:00,  0.85it/s]\u001b[A\n",
      "Epoch 20: 100%|██████████| 8/8 [00:17<00:00,  0.45it/s, v_num=2, train_loss=0.106, train_accuracy=0.919, train_f1_score=0.905]\n",
      "Validation: |          | 0/? [00:00<?, ?it/s]\u001b[A\n",
      "Validation:   0%|          | 0/3 [00:00<?, ?it/s]\u001b[A\n",
      "Validation DataLoader 0:   0%|          | 0/3 [00:00<?, ?it/s]\u001b[A\n",
      "Validation DataLoader 0:  33%|███▎      | 1/3 [00:00<00:00, 12.76it/s]\u001b[A\n",
      "Validation DataLoader 0:  67%|██████▋   | 2/3 [00:02<00:01,  0.88it/s]\u001b[A\n",
      "Validation DataLoader 0: 100%|██████████| 3/3 [00:03<00:00,  0.82it/s]\u001b[A\n",
      "Epoch 20: 100%|██████████| 8/8 [00:23<00:00,  0.34it/s, v_num=2, train_loss=0.138, train_accuracy=0.913, train_f1_score=0.895]"
     ]
    },
    {
     "name": "stderr",
     "output_type": "stream",
     "text": [
      "`Trainer.fit` stopped: `max_epochs=21` reached.\n"
     ]
    },
    {
     "name": "stdout",
     "output_type": "stream",
     "text": [
      "Epoch 20: 100%|██████████| 8/8 [00:25<00:00,  0.32it/s, v_num=2, train_loss=0.138, train_accuracy=0.913, train_f1_score=0.895]\n"
     ]
    },
    {
     "name": "stderr",
     "output_type": "stream",
     "text": [
      "LOCAL_RANK: 0 - CUDA_VISIBLE_DEVICES: [0]\n",
      "C:\\Users\\andre\\anaconda3\\envs\\deeplearning\\Lib\\site-packages\\pytorch_lightning\\trainer\\connectors\\data_connector.py:441: The 'val_dataloader' does not have many workers which may be a bottleneck. Consider increasing the value of the `num_workers` argument` to `num_workers=19` in the `DataLoader` to improve performance.\n"
     ]
    },
    {
     "name": "stdout",
     "output_type": "stream",
     "text": [
      "Validation DataLoader 0: 100%|██████████| 3/3 [00:03<00:00,  0.76it/s]\n",
      "────────────────────────────────────────────────────────────────────────────────────────────────────────────────────────\n",
      "     Validate metric           DataLoader 0\n",
      "────────────────────────────────────────────────────────────────────────────────────────────────────────────────────────\n",
      "        val_loss            1.1895912885665894\n",
      "────────────────────────────────────────────────────────────────────────────────────────────────────────────────────────\n"
     ]
    },
    {
     "name": "stderr",
     "output_type": "stream",
     "text": [
      "LOCAL_RANK: 0 - CUDA_VISIBLE_DEVICES: [0]\n",
      "C:\\Users\\andre\\anaconda3\\envs\\deeplearning\\Lib\\site-packages\\pytorch_lightning\\trainer\\connectors\\data_connector.py:441: The 'test_dataloader' does not have many workers which may be a bottleneck. Consider increasing the value of the `num_workers` argument` to `num_workers=19` in the `DataLoader` to improve performance.\n"
     ]
    },
    {
     "name": "stdout",
     "output_type": "stream",
     "text": [
      "Testing DataLoader 0: 100%|██████████| 3/3 [00:03<00:00,  0.82it/s]\n",
      "────────────────────────────────────────────────────────────────────────────────────────────────────────────────────────\n",
      "       Test metric             DataLoader 0\n",
      "────────────────────────────────────────────────────────────────────────────────────────────────────────────────────────\n",
      "      test_accuracy          0.849056601524353\n",
      "      test_f1_score         0.7799917459487915\n",
      "        test_loss            1.080797553062439\n",
      "────────────────────────────────────────────────────────────────────────────────────────────────────────────────────────\n",
      "The test accuracy is:  0.849056601524353\n"
     ]
    }
   ],
   "source": [
    "logger = TensorBoardLogger(save_dir=LOGS_DIR, name=f\"wakeclassifier_model_dropout_v0_lr{LEARNING_RATE}_bs{BATCH_SIZE}\")\n",
    "#profiler = PyTorchProfiler(\n",
    "#    on_trace_ready=torch.profiler.tensorboard_trace_handler(\"tb_logs/profiler0\"),\n",
    "#    schedule=torch.profiler.schedule(skip_first=5, wait=1, warmup=1, active=20),\n",
    "#)\n",
    "model = WakeClassifierPlModule(\n",
    "    in_channels=IN_CHANNELS,\n",
    "    num_classes=NUM_CLASSES,\n",
    "    learning_rate=LEARNING_RATE,\n",
    ")\n",
    "dm = xAIWakesDataModule( # self, csv_file, root_dir, batch_size, num_workers, transform=None)\n",
    "    csv_file=CSV_DIR,\n",
    "    root_dir=DATA_DIR,\n",
    "    batch_size=BATCH_SIZE,\n",
    "    num_workers=NUM_WORKERS,\n",
    "    transform=TRANSFORM_SIMPLE,\n",
    ")\n",
    "trainer = pl.Trainer(\n",
    "    accelerator=ACCELERATOR,\n",
    "    devices=DEVICES,\n",
    "    min_epochs=1,\n",
    "    max_epochs=NUM_EPOCHS,\n",
    "    fast_dev_run=False, #check for a fast run \n",
    "    overfit_batches=False, # check to overfit a batch. Do this before trying to train on the whole dataset\n",
    "    logger=logger,\n",
    "    log_every_n_steps=5,\n",
    "    check_val_every_n_epoch=5,\n",
    "    #profiler=profiler,\n",
    "    #callbacks=[cb],\n",
    ")\n",
    "trainer.fit(model, dm)\n",
    "trainer.validate(model, dm)\n",
    "results = trainer.test(model, dm)\n",
    "print(\"The test accuracy is: \", results[0].get('test_accuracy'))"
   ]
  },
  {
   "cell_type": "markdown",
   "id": "fb827462-525b-4a9b-b1de-7e7acff914d4",
   "metadata": {},
   "source": [
    "## Testing"
   ]
  },
  {
   "cell_type": "markdown",
   "id": "9e1c2fcd-58cb-4494-81ae-d72d1c1013a4",
   "metadata": {},
   "source": [
    "* Currently set to do inference on a the whole dataset. Change the predict_step, the predict dataloader, etc. to change this. \n",
    "* Download pre-trained weights from here: https://drive.google.com/uc?export=download&id=1NfR57Liq_1-lplvjsxMLUaB_64A8PFSD"
   ]
  },
  {
   "cell_type": "code",
   "execution_count": 20,
   "id": "abd7976f-ae99-4669-a18d-f07cf46e3bd1",
   "metadata": {},
   "outputs": [
    {
     "name": "stderr",
     "output_type": "stream",
     "text": [
      "GPU available: True (cuda), used: True\n",
      "TPU available: False, using: 0 TPU cores\n",
      "IPU available: False, using: 0 IPUs\n",
      "HPU available: False, using: 0 HPUs\n",
      "Restoring states from the checkpoint path at epoch=19-step=160.ckpt\n",
      "LOCAL_RANK: 0 - CUDA_VISIBLE_DEVICES: [0]\n",
      "Loaded model weights from the checkpoint at epoch=19-step=160.ckpt\n",
      "C:\\Users\\andre\\anaconda3\\envs\\deeplearning\\Lib\\site-packages\\pytorch_lightning\\trainer\\connectors\\data_connector.py:441: The 'predict_dataloader' does not have many workers which may be a bottleneck. Consider increasing the value of the `num_workers` argument` to `num_workers=19` in the `DataLoader` to improve performance.\n"
     ]
    },
    {
     "name": "stdout",
     "output_type": "stream",
     "text": [
      "Predicting DataLoader 0:   0%|          | 0/13 [00:00<?, ?it/s] - Accuracy: 1.000, F1-score: 0.000\n",
      "Predicting DataLoader 0:   8%|▊         | 1/13 [00:00<00:01,  6.09it/s] - Accuracy: 1.000, F1-score: 0.000\n",
      "Predicting DataLoader 0:  15%|█▌        | 2/13 [00:01<00:07,  1.39it/s] - Accuracy: 1.000, F1-score: 0.000\n",
      "Predicting DataLoader 0:  23%|██▎       | 3/13 [00:02<00:08,  1.21it/s] - Accuracy: 1.000, F1-score: 0.000\n",
      "Predicting DataLoader 0:  31%|███       | 4/13 [00:03<00:07,  1.16it/s] - Accuracy: 0.905, F1-score: 0.000\n",
      "Predicting DataLoader 0:  38%|███▊      | 5/13 [00:04<00:07,  1.07it/s] - Accuracy: 0.810, F1-score: 0.000\n",
      "Predicting DataLoader 0:  46%|████▌     | 6/13 [00:05<00:06,  1.07it/s] - Accuracy: 0.905, F1-score: 0.500\n",
      "Predicting DataLoader 0:  54%|█████▍    | 7/13 [00:06<00:05,  1.04it/s] - Accuracy: 0.810, F1-score: 0.895\n",
      "Predicting DataLoader 0:  62%|██████▏   | 8/13 [00:08<00:05,  0.98it/s] - Accuracy: 0.905, F1-score: 0.950\n",
      "Predicting DataLoader 0:  69%|██████▉   | 9/13 [00:09<00:04,  0.97it/s] - Accuracy: 0.905, F1-score: 0.950\n",
      "Predicting DataLoader 0:  77%|███████▋  | 10/13 [00:10<00:03,  0.95it/s] - Accuracy: 0.857, F1-score: 0.923\n",
      "Predicting DataLoader 0:  85%|████████▍ | 11/13 [00:11<00:02,  0.95it/s] - Accuracy: 0.762, F1-score: 0.865\n",
      "Predicting DataLoader 0:  92%|█████████▏| 12/13 [00:12<00:01,  0.94it/s] - Accuracy: 0.938, F1-score: 0.968\n",
      "Predicting DataLoader 0: 100%|██████████| 13/13 [00:13<00:00,  0.96it/s]\n"
     ]
    },
    {
     "data": {
      "image/png": "[encoded data removed]",
      "text/plain": [
       "<Figure size 640x480 with 1 Axes>"
      ]
     },
     "metadata": {},
     "output_type": "display_data"
    },
    {
     "data": {
      "image/png": "[encoded data removed]",
      "text/plain": [
       "<Figure size 640x480 with 1 Axes>"
      ]
     },
     "metadata": {},
     "output_type": "display_data"
    },
    {
     "data": {
      "text/plain": [
       "[tensor([0, 0, 0, 0, 0, 0, 0, 0, 0, 0, 0, 0, 0, 0, 0, 0, 0, 0, 0, 0, 0]),\n",
       " tensor([0, 0, 0, 0, 0, 0, 0, 0, 0, 0, 0, 0, 0, 0, 0, 0, 0, 0, 0, 0, 0]),\n",
       " tensor([0, 0, 0, 0, 0, 0, 0, 0, 0, 0, 0, 0, 0, 0, 0, 0, 0, 0, 0, 0, 0]),\n",
       " tensor([0, 0, 0, 0, 0, 0, 0, 0, 0, 0, 0, 0, 0, 0, 0, 0, 0, 0, 0, 0, 0]),\n",
       " tensor([0, 0, 0, 0, 0, 0, 0, 0, 0, 1, 0, 1, 0, 0, 0, 0, 0, 0, 0, 0, 0]),\n",
       " tensor([0, 0, 0, 0, 0, 1, 0, 0, 1, 0, 0, 0, 0, 0, 0, 0, 0, 0, 0, 1, 1]),\n",
       " tensor([0, 0, 0, 0, 0, 0, 0, 0, 0, 0, 0, 0, 0, 1, 0, 0, 0, 0, 0, 0, 1]),\n",
       " tensor([1, 1, 1, 0, 1, 1, 0, 1, 1, 1, 0, 1, 1, 0, 1, 1, 1, 1, 1, 1, 1]),\n",
       " tensor([0, 0, 1, 1, 1, 1, 1, 1, 1, 1, 1, 1, 1, 1, 1, 1, 1, 1, 1, 1, 1]),\n",
       " tensor([1, 1, 1, 1, 1, 1, 0, 1, 1, 1, 1, 1, 1, 1, 1, 1, 1, 1, 1, 0, 1]),\n",
       " tensor([1, 0, 1, 0, 1, 1, 1, 1, 1, 1, 1, 1, 0, 1, 1, 1, 1, 1, 1, 1, 1]),\n",
       " tensor([1, 0, 0, 1, 1, 1, 1, 1, 1, 1, 0, 0, 1, 1, 1, 0, 1, 1, 1, 1, 1]),\n",
       " tensor([1, 1, 1, 1, 0, 1, 1, 1, 1, 1, 1, 1, 1, 1, 1, 1])]"
      ]
     },
     "execution_count": 20,
     "metadata": {},
     "output_type": "execute_result"
    }
   ],
   "source": [
    "model = WakeClassifierPlModule(\n",
    "    in_channels=IN_CHANNELS,\n",
    "    num_classes=NUM_CLASSES,\n",
    "    learning_rate=LEARNING_RATE\n",
    ")\n",
    "dm = xAIWakesDataModule( # self, csv_file, root_dir, batch_size, num_workers, transform=None)\n",
    "    csv_file=CSV_DIR,\n",
    "    root_dir=DATA_DIR,\n",
    "    batch_size=BATCH_SIZE,\n",
    "    num_workers=NUM_WORKERS,\n",
    "    transform=TRANSFORM,\n",
    ")\n",
    "trainer = pl.Trainer(\n",
    "    accelerator=ACCELERATOR,\n",
    "    devices=DEVICES,\n",
    "    min_epochs=1,\n",
    "    max_epochs=NUM_EPOCHS,\n",
    "    log_every_n_steps=5,\n",
    "    inference_mode=True,\n",
    ")\n",
    "trainer.predict(\n",
    "    model=model,\n",
    "    datamodule=dm,\n",
    "    ckpt_path=rf\"epoch=19-step=160.ckpt\",\n",
    ")"
   ]
  },
  {
   "cell_type": "code",
   "execution_count": null,
   "id": "04ed9a05-8cc2-4d5c-b92c-ece0ed0eee1f",
   "metadata": {},
   "outputs": [],
   "source": []
  }
 ],
 "metadata": {
  "kernelspec": {
   "display_name": "Python 3 (ipykernel)",
   "language": "python",
   "name": "python3"
  },
  "language_info": {
   "codemirror_mode": {
    "name": "ipython",
    "version": 3
   },
   "file_extension": ".py",
   "mimetype": "text/x-python",
   "name": "python",
   "nbconvert_exporter": "python",
   "pygments_lexer": "ipython3",
   "version": "3.11.5"
  }
 },
 "nbformat": 4,
 "nbformat_minor": 5
}
